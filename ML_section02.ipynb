{
  "nbformat": 4,
  "nbformat_minor": 0,
  "metadata": {
    "colab": {
      "private_outputs": true,
      "provenance": [],
      "authorship_tag": "ABX9TyPjsW8A+Ze0C5rgBAU18yaB",
      "include_colab_link": true
    },
    "kernelspec": {
      "name": "python3",
      "display_name": "Python 3"
    },
    "language_info": {
      "name": "python"
    }
  },
  "cells": [
    {
      "cell_type": "markdown",
      "metadata": {
        "id": "view-in-github",
        "colab_type": "text"
      },
      "source": [
        "<a href=\"https://colab.research.google.com/github/ehekaanldk/ML-study/blob/main/ML_section02.ipynb\" target=\"_parent\"><img src=\"https://colab.research.google.com/assets/colab-badge.svg\" alt=\"Open In Colab\"/></a>"
      ]
    },
    {
      "cell_type": "markdown",
      "source": [
        "*코드 버전업: v1.0 코드 그대로 사용*"
      ],
      "metadata": {
        "id": "w3JuZHsDKOO6"
      }
    },
    {
      "cell_type": "code",
      "source": [
        "import tensorflow.compat.v1 as tf\n",
        "\n",
        "tf.disable_v2_behavior()"
      ],
      "metadata": {
        "id": "Kqg8c5SGKCEC"
      },
      "execution_count": null,
      "outputs": []
    },
    {
      "cell_type": "markdown",
      "source": [
        "Linear regression 구현하기"
      ],
      "metadata": {
        "id": "Lw9lx2U1Z-c5"
      }
    },
    {
      "cell_type": "markdown",
      "source": [
        "### 1. TF계산을 위한 그래프 빌드하기"
      ],
      "metadata": {
        "id": "0sbaQlJGbBlZ"
      }
    },
    {
      "cell_type": "markdown",
      "source": [
        "$$\n",
        "H(x)=Wx+b\n",
        "$$"
      ],
      "metadata": {
        "id": "Tg0YPVDfb287"
      }
    },
    {
      "cell_type": "markdown",
      "source": [
        "Variable() 함수는 변경이 가능한 값인 변수를 지정하는 함수이다. 학습하는 과정에서 tensorflow가 자체적으로 변경시키는 값이라고 생각한다.\n",
        "\n",
        "Constant() 함수는 변경이 불가능한 상수를 지정하는 함수이다."
      ],
      "metadata": {
        "id": "Bp2kslCvcG3n"
      }
    },
    {
      "cell_type": "code",
      "execution_count": null,
      "metadata": {
        "id": "F3YXTEKVOqlk"
      },
      "outputs": [],
      "source": [
        "# hypothesis 설정\n",
        "\n",
        "x_train = [1,2,3]\n",
        "y_train = [1,2,3]\n",
        "\n",
        "# random한 값으로 값이 1개인 1차원으로 선언한다.\n",
        "W = tf.Variable(tf.random_normal([1]), name=\"weight\")\n",
        "b = tf.Variable(tf.random_normal([1]), name=\"bias\")\n",
        "\n",
        "hypothesis = x_train * W + b"
      ]
    },
    {
      "cell_type": "markdown",
      "source": [
        "$$\n",
        "cost(W,b) = \\frac{1}{m} \\sum_{i=1}^{m} (H(x^i)-y^i)^2\n",
        "$$"
      ],
      "metadata": {
        "id": "AZPYZCsjbzUt"
      }
    },
    {
      "cell_type": "code",
      "source": [
        "# 손실함수 적용\n",
        "\n",
        "# reduce_mean() 함수는 주어진 tensor에서 평균을 내준다.\n",
        "cost = tf.reduce_mean(tf.square(hypothesis - y_train))"
      ],
      "metadata": {
        "id": "ewwXETKwbtoM"
      },
      "execution_count": null,
      "outputs": []
    },
    {
      "cell_type": "markdown",
      "source": [
        "주어진 cost를 minimize한다. GradientDescent를 사용한다."
      ],
      "metadata": {
        "id": "Ps0Y1XRUdJiq"
      }
    },
    {
      "cell_type": "code",
      "source": [
        "# minimize 적용\n",
        "# minimize 작업명은 train이며 노드이다.\n",
        "\n",
        "optimizer = tf.train.GradientDescentOptimizer(learning_rate=0.01)\n",
        "train = optimizer.minimize(cost)"
      ],
      "metadata": {
        "id": "Rs9Vhp_XdTWc"
      },
      "execution_count": null,
      "outputs": []
    },
    {
      "cell_type": "markdown",
      "source": [
        "### 2. Session형태로 run"
      ],
      "metadata": {
        "id": "C0GgfNAbd9Bp"
      }
    },
    {
      "cell_type": "code",
      "source": [
        "# W와 b라는 tensorflow variable을 사용\n",
        "# global_variables_initializer() 함수로 variable를 initializ한다.\n",
        "\n",
        "sess = tf.Session()\n",
        "sess.run(tf.global_variables_initializer())"
      ],
      "metadata": {
        "id": "6oB-54yPd8pn"
      },
      "execution_count": null,
      "outputs": []
    },
    {
      "cell_type": "markdown",
      "source": [
        "### 3.update graph 와 get results"
      ],
      "metadata": {
        "id": "7ZBoMa12eLqI"
      }
    },
    {
      "cell_type": "code",
      "source": [
        "# sess.run()으로 train을 실행시킨다.\n",
        "# 다음과 같이 노드와 엣지로 이뤄진 그래프를 실행시키는 것이 학습이다.\n",
        "# train(minimize 작업) -> cost(차이의 평균) -> hypothesis -> data(W, b)\n",
        "\n",
        "# 2000번의 step에서 20번마다 출력\n",
        "# 학습이 진행될수록 cost값은 작은 값으로 수렴\n",
        "# W는 1로 수렴, b는 0에 가깝게 수렴한다.\n",
        "for step in range(2001):\n",
        "  sess.run(train)\n",
        "  if step % 20 == 0:\n",
        "    print(step, sess.run(cost), sess.run(W), sess.run(b))"
      ],
      "metadata": {
        "id": "y7TMnyXbdt4_"
      },
      "execution_count": null,
      "outputs": []
    },
    {
      "cell_type": "markdown",
      "source": [
        "placeholders\n",
        "직접 값을 정하지 않고 placeholder라는 이름으로 값을 주고, train을 실행시킬 때 feed_dict를 이용해서 데이터를 넘겨준다.\n",
        "\n",
        "리스트에 넣어서 한번에 실행이 가능하다."
      ],
      "metadata": {
        "id": "NAGdSKiQgE_u"
      }
    },
    {
      "cell_type": "code",
      "source": [
        "X = tf.placeholder(tf.float32)\n",
        "Y = tf.placeholder(tf.float32)"
      ],
      "metadata": {
        "id": "I5h20R7ahTLR"
      },
      "execution_count": null,
      "outputs": []
    },
    {
      "cell_type": "code",
      "source": [
        "for step in range(2001):\n",
        "  # train_val은 필요없어서 _\n",
        "  cost_val, W_val, b_val, _ = \\\n",
        "    sess.run([cost, W, b, train],\n",
        "             feed_dict={X: [1,2,3], Y: [1,2,3]})\n",
        "  if step % 20 == 0:\n",
        "    print(step, cost_val, W_val, b_val)"
      ],
      "metadata": {
        "id": "1N5CqcQYg3ob"
      },
      "execution_count": null,
      "outputs": []
    }
  ]
}